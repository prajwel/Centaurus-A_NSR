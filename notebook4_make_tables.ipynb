{
 "cells": [
  {
   "cell_type": "markdown",
   "id": "68f7ee4c-c1ae-461a-a879-22935314a06f",
   "metadata": {},
   "source": [
    "# UVIT view of Centaurus A; a detailed study on positive AGN feedback\n",
    "## Jupyter notebooks used in the study: Notebook 4\n",
    "\n",
    "We are making the scripts used for the study publicly available. This notebook will create the tables 2, B1, and B2 of the article. "
   ]
  },
  {
   "cell_type": "code",
   "execution_count": 1,
   "id": "f1f79532-5c90-4349-82aa-5a13a7425c37",
   "metadata": {},
   "outputs": [],
   "source": [
    "from astropy.table import Table, QTable\n",
    "import astropy.units as u"
   ]
  },
  {
   "cell_type": "code",
   "execution_count": 2,
   "id": "6b5af9b2-ebbc-4845-81fb-0a2025a5ed12",
   "metadata": {},
   "outputs": [],
   "source": [
    "flux_unit = u.erg / (u.centimeter ** 2 * u.second * u.angstrom)"
   ]
  },
  {
   "cell_type": "code",
   "execution_count": 3,
   "id": "d93e7ab4-635c-4b42-9437-a107a1e81b08",
   "metadata": {},
   "outputs": [],
   "source": [
    "tbl = Table.read('final_table.fits')\n",
    "\n",
    "viz_tbl = tbl['label', 'RA_J2000', 'DEC_J2000', \n",
    "              'F148W_area_kpc_square', \n",
    "              'F148W_ext_corrected_flux', 'F148W_ext_corrected_fluxerr', \n",
    "              'N219M_ext_corrected_flux', 'N219M_ext_corrected_fluxerr', \n",
    "              'N245M_ext_corrected_flux', 'N245M_ext_corrected_fluxerr', \n",
    "              'N279N_ext_corrected_flux', 'N279N_ext_corrected_fluxerr']\n",
    "\n",
    "viz_tbl = QTable(viz_tbl)\n",
    "\n",
    "viz_tbl.rename_column('F148W_area_kpc_square', 'Area')\n",
    "viz_tbl.rename_column('F148W_ext_corrected_flux', 'F148W flux')\n",
    "viz_tbl.rename_column('N219M_ext_corrected_flux', 'N219M flux')\n",
    "viz_tbl.rename_column('N245M_ext_corrected_flux', 'N245M flux')\n",
    "viz_tbl.rename_column('N279N_ext_corrected_flux', 'N279N flux')\n",
    "\n",
    "viz_tbl.rename_column('F148W_ext_corrected_fluxerr', 'F148W flux error')\n",
    "viz_tbl.rename_column('N219M_ext_corrected_fluxerr', 'N219M flux error')\n",
    "viz_tbl.rename_column('N245M_ext_corrected_fluxerr', 'N245M flux error')\n",
    "viz_tbl.rename_column('N279N_ext_corrected_fluxerr', 'N279N flux error')\n",
    "\n",
    "viz_tbl['RA_J2000'] = viz_tbl['RA_J2000'] * u.degree\n",
    "viz_tbl['DEC_J2000'] = viz_tbl['DEC_J2000'] * u.degree\n",
    "viz_tbl['Area'] = viz_tbl['Area'] * 1000 * (u.pc ** 2)\n",
    "\n",
    "viz_tbl['F148W flux'] = viz_tbl['F148W flux'] * flux_unit\n",
    "viz_tbl['N219M flux'] = viz_tbl['N219M flux'] * flux_unit\n",
    "viz_tbl['N245M flux'] = viz_tbl['N245M flux'] * flux_unit\n",
    "viz_tbl['N279N flux'] = viz_tbl['N279N flux'] * flux_unit\n",
    "\n",
    "viz_tbl['F148W flux error'] = viz_tbl['F148W flux error'] * flux_unit\n",
    "viz_tbl['N219M flux error'] = viz_tbl['N219M flux error'] * flux_unit\n",
    "viz_tbl['N245M flux error'] = viz_tbl['N245M flux error'] * flux_unit\n",
    "viz_tbl['N279N flux error'] = viz_tbl['N279N flux error'] * flux_unit\n",
    "\n",
    "viz_tbl['RA_J2000'].info.format = '.7f'\n",
    "viz_tbl['DEC_J2000'].info.format = '.7f'\n",
    "viz_tbl['Area'].info.format = '.4f'\n",
    "\n",
    "viz_tbl['F148W flux'].info.format = '.4e'\n",
    "viz_tbl['N219M flux'].info.format = '.4e'\n",
    "viz_tbl['N245M flux'].info.format = '.4e'\n",
    "viz_tbl['N279N flux'].info.format = '.4e'\n",
    "\n",
    "viz_tbl['F148W flux error'].info.format = '.4e'\n",
    "viz_tbl['N219M flux error'].info.format = '.4e'\n",
    "viz_tbl['N245M flux error'].info.format = '.4e'\n",
    "viz_tbl['N279N flux error'].info.format = '.4e'\n",
    "\n",
    "viz_tbl.write('cena_nsr.fit', overwrite = True)"
   ]
  },
  {
   "cell_type": "markdown",
   "id": "d9618335-d55d-4f0b-8b39-942f50f7b5ba",
   "metadata": {},
   "source": [
    "### Table 2"
   ]
  },
  {
   "cell_type": "code",
   "execution_count": 4,
   "id": "5b7bdfe0-f497-4427-b85e-2c9117362695",
   "metadata": {},
   "outputs": [
    {
     "data": {
      "text/html": [
       "<div><i>QTable length=352</i>\n",
       "<table id=\"table140280354588896\" class=\"table-striped table-bordered table-condensed\">\n",
       "<thead><tr><th>label</th><th>RA_J2000</th><th>DEC_J2000</th><th>Area</th><th>F148W flux</th><th>F148W flux error</th><th>N219M flux</th><th>N219M flux error</th><th>N245M flux</th><th>N245M flux error</th><th>N279N flux</th><th>N279N flux error</th></tr></thead>\n",
       "<thead><tr><th></th><th>deg</th><th>deg</th><th>pc2</th><th>erg / (Angstrom cm2 s)</th><th>erg / (Angstrom cm2 s)</th><th>erg / (Angstrom cm2 s)</th><th>erg / (Angstrom cm2 s)</th><th>erg / (Angstrom cm2 s)</th><th>erg / (Angstrom cm2 s)</th><th>erg / (Angstrom cm2 s)</th><th>erg / (Angstrom cm2 s)</th></tr></thead>\n",
       "<thead><tr><th>int64</th><th>float64</th><th>float64</th><th>float64</th><th>float64</th><th>float64</th><th>float64</th><th>float64</th><th>float64</th><th>float64</th><th>float64</th><th>float64</th></tr></thead>\n",
       "<tr><td>1</td><td>201.4552822</td><td>-43.0005061</td><td>0.2949</td><td>4.8370e-18</td><td>1.3697e-18</td><td>3.6543e-18</td><td>2.0227e-18</td><td>5.2524e-18</td><td>1.7667e-18</td><td>4.5485e-18</td><td>1.8183e-18</td></tr>\n",
       "<tr><td>2</td><td>201.5777270</td><td>-43.0015576</td><td>0.4128</td><td>4.1965e-18</td><td>1.4022e-18</td><td>1.7574e-18</td><td>1.7489e-18</td><td>5.2200e-18</td><td>1.9964e-18</td><td>3.7410e-18</td><td>1.9864e-18</td></tr>\n",
       "<tr><td>4</td><td>201.5833634</td><td>-42.9975493</td><td>0.8847</td><td>9.1633e-18</td><td>2.0636e-18</td><td>8.1780e-18</td><td>3.3010e-18</td><td>2.1578e-18</td><td>1.3860e-18</td><td>4.2211e-18</td><td>2.1961e-18</td></tr>\n",
       "<tr><td>5</td><td>201.6503585</td><td>-42.9981889</td><td>0.4718</td><td>5.6848e-18</td><td>1.5681e-18</td><td>5.2246e-19</td><td>1.5298e-18</td><td>1.7138e-18</td><td>9.0495e-19</td><td>2.3284e-18</td><td>1.5465e-18</td></tr>\n",
       "<tr><td>6</td><td>201.5578779</td><td>-42.9938295</td><td>1.9463</td><td>2.3509e-17</td><td>3.1906e-18</td><td>1.6702e-17</td><td>4.5524e-18</td><td>1.0703e-17</td><td>2.2918e-18</td><td>2.7618e-18</td><td>2.5850e-18</td></tr>\n",
       "<tr><td>7</td><td>201.6884611</td><td>-42.9952150</td><td>0.9437</td><td>1.0653e-17</td><td>2.1781e-18</td><td>2.1733e-18</td><td>2.2470e-18</td><td>3.2903e-18</td><td>1.6467e-18</td><td>3.3752e-18</td><td>1.9829e-18</td></tr>\n",
       "<tr><td>...</td><td>...</td><td>...</td><td>...</td><td>...</td><td>...</td><td>...</td><td>...</td><td>...</td><td>...</td><td>...</td><td>...</td></tr>\n",
       "<tr><td>443</td><td>201.5675437</td><td>-42.7859454</td><td>2.9489</td><td>2.8664e-17</td><td>3.6691e-18</td><td>1.2979e-17</td><td>4.7519e-18</td><td>8.1892e-18</td><td>1.9731e-18</td><td>1.5338e-17</td><td>3.8645e-18</td></tr>\n",
       "<tr><td>444</td><td>201.5652226</td><td>-42.7841833</td><td>4.0695</td><td>4.0886e-17</td><td>4.3449e-18</td><td>2.6613e-17</td><td>5.9176e-18</td><td>2.7340e-17</td><td>3.7135e-18</td><td>2.1933e-17</td><td>4.8696e-18</td></tr>\n",
       "<tr><td>445</td><td>201.5657399</td><td>-42.7829407</td><td>8.1980</td><td>9.4105e-17</td><td>6.3921e-18</td><td>4.7313e-17</td><td>8.3098e-18</td><td>4.7807e-17</td><td>5.0964e-18</td><td>3.8135e-17</td><td>6.5386e-18</td></tr>\n",
       "<tr><td>446</td><td>201.5688244</td><td>-42.7826230</td><td>16.9268</td><td>2.2439e-16</td><td>9.5695e-18</td><td>1.5362e-16</td><td>1.3630e-17</td><td>1.1239e-16</td><td>7.8338e-18</td><td>1.0099e-16</td><td>1.0319e-17</td></tr>\n",
       "<tr><td>447</td><td>201.5672107</td><td>-42.7833103</td><td>4.5413</td><td>4.4893e-17</td><td>4.5717e-18</td><td>1.8374e-17</td><td>5.7317e-18</td><td>1.6281e-17</td><td>2.8316e-18</td><td>1.7107e-17</td><td>4.3735e-18</td></tr>\n",
       "<tr><td>448</td><td>201.5716807</td><td>-42.7815615</td><td>5.1901</td><td>5.1852e-17</td><td>4.9027e-18</td><td>3.7118e-17</td><td>7.0709e-18</td><td>2.7884e-17</td><td>4.1327e-18</td><td>3.8368e-17</td><td>6.1472e-18</td></tr>\n",
       "</table></div>"
      ],
      "text/plain": [
       "<QTable length=352>\n",
       "label   RA_J2000   DEC_J2000  ...       N279N flux          N279N flux error   \n",
       "          deg         deg     ... erg / (Angstrom cm2 s) erg / (Angstrom cm2 s)\n",
       "int64   float64     float64   ...        float64                float64        \n",
       "----- ----------- ----------- ... ---------------------- ----------------------\n",
       "    1 201.4552822 -43.0005061 ...             4.5485e-18             1.8183e-18\n",
       "    2 201.5777270 -43.0015576 ...             3.7410e-18             1.9864e-18\n",
       "    4 201.5833634 -42.9975493 ...             4.2211e-18             2.1961e-18\n",
       "    5 201.6503585 -42.9981889 ...             2.3284e-18             1.5465e-18\n",
       "    6 201.5578779 -42.9938295 ...             2.7618e-18             2.5850e-18\n",
       "    7 201.6884611 -42.9952150 ...             3.3752e-18             1.9829e-18\n",
       "  ...         ...         ... ...                    ...                    ...\n",
       "  443 201.5675437 -42.7859454 ...             1.5338e-17             3.8645e-18\n",
       "  444 201.5652226 -42.7841833 ...             2.1933e-17             4.8696e-18\n",
       "  445 201.5657399 -42.7829407 ...             3.8135e-17             6.5386e-18\n",
       "  446 201.5688244 -42.7826230 ...             1.0099e-16             1.0319e-17\n",
       "  447 201.5672107 -42.7833103 ...             1.7107e-17             4.3735e-18\n",
       "  448 201.5716807 -42.7815615 ...             3.8368e-17             6.1472e-18"
      ]
     },
     "execution_count": 4,
     "metadata": {},
     "output_type": "execute_result"
    }
   ],
   "source": [
    "viz_tbl "
   ]
  },
  {
   "cell_type": "code",
   "execution_count": 5,
   "id": "f2461ff0-1901-4aff-8482-4a4b7a922f45",
   "metadata": {},
   "outputs": [],
   "source": [
    "inner_tbl = Table.read('sorted_inner_tbl.fits')\n",
    "outer_tbl = Table.read('sorted_outer_tbl.fits')"
   ]
  },
  {
   "cell_type": "code",
   "execution_count": 6,
   "id": "a3c05103-457f-4de5-b744-71fce036fdcd",
   "metadata": {},
   "outputs": [],
   "source": [
    "viz_inner_tbl = inner_tbl['label', 'RA_J2000', 'DEC_J2000', \n",
    "              'F148W_area_kpc_square', \n",
    "              'F148W_ext_corrected_flux', 'F148W_ext_corrected_fluxerr', \n",
    "              'N219M_ext_corrected_flux', 'N219M_ext_corrected_fluxerr', \n",
    "              'N245M_ext_corrected_flux', 'N245M_ext_corrected_fluxerr', \n",
    "              'N279N_ext_corrected_flux', 'N279N_ext_corrected_fluxerr', 'N219M_F148W_color', 'N245M_F148W_color', 'N245M_N219M_color', 'Age_Myr']\n",
    "\n",
    "viz_inner_tbl = QTable(viz_inner_tbl)\n",
    "\n",
    "viz_inner_tbl.rename_column('F148W_area_kpc_square', 'Area')\n",
    "viz_inner_tbl.rename_column('F148W_ext_corrected_flux', 'F148W flux')\n",
    "viz_inner_tbl.rename_column('N219M_ext_corrected_flux', 'N219M flux')\n",
    "viz_inner_tbl.rename_column('N245M_ext_corrected_flux', 'N245M flux')\n",
    "viz_inner_tbl.rename_column('N279N_ext_corrected_flux', 'N279N flux')\n",
    "\n",
    "viz_inner_tbl.rename_column('F148W_ext_corrected_fluxerr', 'F148W flux error')\n",
    "viz_inner_tbl.rename_column('N219M_ext_corrected_fluxerr', 'N219M flux error')\n",
    "viz_inner_tbl.rename_column('N245M_ext_corrected_fluxerr', 'N245M flux error')\n",
    "viz_inner_tbl.rename_column('N279N_ext_corrected_fluxerr', 'N279N flux error')\n",
    "\n",
    "viz_inner_tbl.rename_column('N219M_F148W_color', 'N219M - F148W')\n",
    "viz_inner_tbl.rename_column('N245M_F148W_color', 'N245M - F148W')\n",
    "viz_inner_tbl.rename_column('N245M_N219M_color', 'N245M - N219M')\n",
    "\n",
    "viz_inner_tbl.rename_column('Age_Myr', 'Age')\n",
    "\n",
    "\n",
    "viz_inner_tbl['RA_J2000'] = viz_inner_tbl['RA_J2000'] * u.degree\n",
    "viz_inner_tbl['DEC_J2000'] = viz_inner_tbl['DEC_J2000'] * u.degree\n",
    "viz_inner_tbl['Area'] = viz_inner_tbl['Area'] * 1000 * (u.pc ** 2)\n",
    "\n",
    "viz_inner_tbl['F148W flux'] = viz_inner_tbl['F148W flux'] * flux_unit\n",
    "viz_inner_tbl['N219M flux'] = viz_inner_tbl['N219M flux'] * flux_unit\n",
    "viz_inner_tbl['N245M flux'] = viz_inner_tbl['N245M flux'] * flux_unit\n",
    "viz_inner_tbl['N279N flux'] = viz_inner_tbl['N279N flux'] * flux_unit\n",
    "\n",
    "viz_inner_tbl['F148W flux error'] = viz_inner_tbl['F148W flux error'] * flux_unit\n",
    "viz_inner_tbl['N219M flux error'] = viz_inner_tbl['N219M flux error'] * flux_unit\n",
    "viz_inner_tbl['N245M flux error'] = viz_inner_tbl['N245M flux error'] * flux_unit\n",
    "viz_inner_tbl['N279N flux error'] = viz_inner_tbl['N279N flux error'] * flux_unit\n",
    "viz_inner_tbl['Age'] = viz_inner_tbl['Age'] * u.Myr\n",
    "\n",
    "viz_inner_tbl['RA_J2000'].info.format = '.7f'\n",
    "viz_inner_tbl['DEC_J2000'].info.format = '.7f'\n",
    "viz_inner_tbl['Area'].info.format = '.4f'\n",
    "\n",
    "viz_inner_tbl['F148W flux'].info.format = '.4e'\n",
    "viz_inner_tbl['N219M flux'].info.format = '.4e'\n",
    "viz_inner_tbl['N245M flux'].info.format = '.4e'\n",
    "viz_inner_tbl['N279N flux'].info.format = '.4e'\n",
    "\n",
    "viz_inner_tbl['F148W flux error'].info.format = '.4e'\n",
    "viz_inner_tbl['N219M flux error'].info.format = '.4e'\n",
    "viz_inner_tbl['N245M flux error'].info.format = '.4e'\n",
    "viz_inner_tbl['N279N flux error'].info.format = '.4e'\n",
    "\n",
    "viz_inner_tbl['N219M - F148W'].info.format = '.4f'\n",
    "viz_inner_tbl['N245M - F148W'].info.format = '.4f'\n",
    "viz_inner_tbl['N245M - N219M'].info.format = '.4f'\n",
    "viz_inner_tbl['Age'].info.format = '.4f'\n",
    "\n",
    "viz_inner_tbl.write('cena_inr.fit', overwrite = True)"
   ]
  },
  {
   "cell_type": "markdown",
   "id": "5a0b0a89-8950-4266-99b9-112b4b0d9b8c",
   "metadata": {},
   "source": [
    "### Table B1"
   ]
  },
  {
   "cell_type": "code",
   "execution_count": 7,
   "id": "e160f48e-b472-44e3-a028-f6cf65887991",
   "metadata": {},
   "outputs": [
    {
     "data": {
      "text/html": [
       "<div><i>QTable length=16</i>\n",
       "<table id=\"table140280349184304\" class=\"table-striped table-bordered table-condensed\">\n",
       "<thead><tr><th>label</th><th>RA_J2000</th><th>DEC_J2000</th><th>Area</th><th>F148W flux</th><th>F148W flux error</th><th>N219M flux</th><th>N219M flux error</th><th>N245M flux</th><th>N245M flux error</th><th>N279N flux</th><th>N279N flux error</th><th>N219M - F148W</th><th>N245M - F148W</th><th>N245M - N219M</th><th>Age</th></tr></thead>\n",
       "<thead><tr><th></th><th>deg</th><th>deg</th><th>pc2</th><th>erg / (Angstrom cm2 s)</th><th>erg / (Angstrom cm2 s)</th><th>erg / (Angstrom cm2 s)</th><th>erg / (Angstrom cm2 s)</th><th>erg / (Angstrom cm2 s)</th><th>erg / (Angstrom cm2 s)</th><th>erg / (Angstrom cm2 s)</th><th>erg / (Angstrom cm2 s)</th><th></th><th></th><th></th><th>Myr</th></tr></thead>\n",
       "<thead><tr><th>int64</th><th>float64</th><th>float64</th><th>float64</th><th>float64</th><th>float64</th><th>float64</th><th>float64</th><th>float64</th><th>float64</th><th>float64</th><th>float64</th><th>float64</th><th>float64</th><th>float64</th><th>float64</th></tr></thead>\n",
       "<tr><td>6</td><td>201.5578779</td><td>-42.9938295</td><td>1.9463</td><td>2.3509e-17</td><td>3.1906e-18</td><td>1.6702e-17</td><td>4.5524e-18</td><td>1.0703e-17</td><td>2.2918e-18</td><td>2.7618e-18</td><td>2.5850e-18</td><td>-0.0047</td><td>0.3695</td><td>0.3742</td><td>29.8782</td></tr>\n",
       "<tr><td>19</td><td>201.4815173</td><td>-42.9837347</td><td>11.5598</td><td>4.5324e-16</td><td>1.1688e-17</td><td>1.4972e-16</td><td>1.3864e-17</td><td>1.2056e-16</td><td>8.9068e-18</td><td>9.0389e-17</td><td>9.8034e-18</td><td>0.8267</td><td>0.9530</td><td>0.1262</td><td>nan</td></tr>\n",
       "<tr><td>42</td><td>201.4545319</td><td>-42.9646038</td><td>4.6003</td><td>6.7773e-17</td><td>5.2109e-18</td><td>5.8380e-17</td><td>8.7508e-18</td><td>4.6053e-17</td><td>5.4213e-18</td><td>2.9927e-17</td><td>5.7983e-18</td><td>-0.2139</td><td>-0.0653</td><td>0.1486</td><td>63.0777</td></tr>\n",
       "<tr><td>44</td><td>201.5583015</td><td>-42.9644371</td><td>5.1901</td><td>6.6281e-17</td><td>5.2746e-18</td><td>5.0235e-17</td><td>7.9132e-18</td><td>5.1406e-17</td><td>5.7105e-18</td><td>3.1067e-17</td><td>5.6156e-18</td><td>-0.0749</td><td>-0.2088</td><td>-0.1339</td><td>75.6371</td></tr>\n",
       "<tr><td>57</td><td>201.4412119</td><td>-42.9555594</td><td>2.4771</td><td>3.4109e-17</td><td>3.7477e-18</td><td>4.0350e-17</td><td>6.8127e-18</td><td>4.1830e-17</td><td>5.3327e-18</td><td>6.1307e-17</td><td>7.4360e-18</td><td>-0.5583</td><td>-0.7063</td><td>-0.1480</td><td>276.9896</td></tr>\n",
       "<tr><td>80</td><td>201.4154820</td><td>-42.9330740</td><td>4.3644</td><td>6.8203e-17</td><td>5.1634e-18</td><td>8.3704e-17</td><td>9.8141e-18</td><td>6.1774e-17</td><td>6.1091e-18</td><td>6.0927e-17</td><td>7.6091e-18</td><td>-0.5982</td><td>-0.3773</td><td>0.2209</td><td>236.6650</td></tr>\n",
       "<tr><td>...</td><td>...</td><td>...</td><td>...</td><td>...</td><td>...</td><td>...</td><td>...</td><td>...</td><td>...</td><td>...</td><td>...</td><td>...</td><td>...</td><td>...</td><td>...</td></tr>\n",
       "<tr><td>322</td><td>201.4483249</td><td>-42.9772165</td><td>21.6451</td><td>4.2856e-16</td><td>1.2476e-17</td><td>2.5638e-16</td><td>1.8008e-17</td><td>2.1368e-16</td><td>1.1545e-17</td><td>1.5934e-16</td><td>1.4079e-17</td><td>0.1819</td><td>0.2709</td><td>0.0889</td><td>44.9612</td></tr>\n",
       "<tr><td>323</td><td>201.4495844</td><td>-42.9762409</td><td>10.4982</td><td>2.1572e-16</td><td>8.7909e-18</td><td>1.9138e-16</td><td>1.5177e-17</td><td>1.4335e-16</td><td>9.7198e-18</td><td>1.4987e-16</td><td>1.2576e-17</td><td>-0.2459</td><td>-0.0410</td><td>0.2048</td><td>68.0601</td></tr>\n",
       "<tr><td>324</td><td>201.4480639</td><td>-42.9674604</td><td>5.0721</td><td>6.4036e-17</td><td>5.2446e-18</td><td>4.3077e-17</td><td>7.5678e-18</td><td>3.6957e-17</td><td>4.6905e-18</td><td>2.5554e-17</td><td>6.2851e-18</td><td>0.0546</td><td>0.1121</td><td>0.0575</td><td>48.5387</td></tr>\n",
       "<tr><td>327</td><td>201.5120699</td><td>-42.9556898</td><td>11.0290</td><td>2.6887e-16</td><td>9.4687e-18</td><td>1.3379e-16</td><td>1.3049e-17</td><td>1.1542e-16</td><td>8.3988e-18</td><td>5.5132e-17</td><td>8.1906e-18</td><td>0.3819</td><td>0.4334</td><td>0.0515</td><td>4.2899</td></tr>\n",
       "<tr><td>328</td><td>201.5140402</td><td>-42.9548405</td><td>32.5561</td><td>1.1006e-15</td><td>1.8385e-17</td><td>5.2118e-16</td><td>2.5001e-17</td><td>4.4654e-16</td><td>1.6983e-17</td><td>3.1603e-16</td><td>1.7727e-17</td><td>0.4357</td><td>0.4946</td><td>0.0589</td><td>nan</td></tr>\n",
       "<tr><td>340</td><td>201.4973630</td><td>-42.9398820</td><td>14.5087</td><td>2.0826e-16</td><td>9.1025e-18</td><td>1.5638e-16</td><td>1.4184e-17</td><td>1.0394e-16</td><td>7.8798e-18</td><td>7.8179e-17</td><td>9.9934e-18</td><td>-0.0648</td><td>0.2698</td><td>0.3346</td><td>47.2016</td></tr>\n",
       "</table></div>"
      ],
      "text/plain": [
       "<QTable length=16>\n",
       "label   RA_J2000   DEC_J2000    Area  ... N245M - F148W N245M - N219M   Age   \n",
       "          deg         deg       pc2   ...                               Myr   \n",
       "int64   float64     float64   float64 ...    float64       float64    float64 \n",
       "----- ----------- ----------- ------- ... ------------- ------------- --------\n",
       "    6 201.5578779 -42.9938295  1.9463 ...        0.3695        0.3742  29.8782\n",
       "   19 201.4815173 -42.9837347 11.5598 ...        0.9530        0.1262      nan\n",
       "   42 201.4545319 -42.9646038  4.6003 ...       -0.0653        0.1486  63.0777\n",
       "   44 201.5583015 -42.9644371  5.1901 ...       -0.2088       -0.1339  75.6371\n",
       "   57 201.4412119 -42.9555594  2.4771 ...       -0.7063       -0.1480 276.9896\n",
       "   80 201.4154820 -42.9330740  4.3644 ...       -0.3773        0.2209 236.6650\n",
       "  ...         ...         ...     ... ...           ...           ...      ...\n",
       "  322 201.4483249 -42.9772165 21.6451 ...        0.2709        0.0889  44.9612\n",
       "  323 201.4495844 -42.9762409 10.4982 ...       -0.0410        0.2048  68.0601\n",
       "  324 201.4480639 -42.9674604  5.0721 ...        0.1121        0.0575  48.5387\n",
       "  327 201.5120699 -42.9556898 11.0290 ...        0.4334        0.0515   4.2899\n",
       "  328 201.5140402 -42.9548405 32.5561 ...        0.4946        0.0589      nan\n",
       "  340 201.4973630 -42.9398820 14.5087 ...        0.2698        0.3346  47.2016"
      ]
     },
     "execution_count": 7,
     "metadata": {},
     "output_type": "execute_result"
    }
   ],
   "source": [
    "viz_inner_tbl"
   ]
  },
  {
   "cell_type": "code",
   "execution_count": 8,
   "id": "fd299231-19f4-461b-8a77-9da2a50518a6",
   "metadata": {},
   "outputs": [],
   "source": [
    "viz_outer_tbl = outer_tbl['label', 'RA_J2000', 'DEC_J2000', \n",
    "              'F148W_area_kpc_square', \n",
    "              'F148W_ext_corrected_flux', 'F148W_ext_corrected_fluxerr', \n",
    "              'N219M_ext_corrected_flux', 'N219M_ext_corrected_fluxerr', \n",
    "              'N245M_ext_corrected_flux', 'N245M_ext_corrected_fluxerr', \n",
    "              'N279N_ext_corrected_flux', 'N279N_ext_corrected_fluxerr', 'N219M_F148W_color', 'N245M_F148W_color', 'N245M_N219M_color', 'Age_Myr']\n",
    "\n",
    "viz_outer_tbl = QTable(viz_outer_tbl)\n",
    "\n",
    "viz_outer_tbl.rename_column('F148W_area_kpc_square', 'Area')\n",
    "viz_outer_tbl.rename_column('F148W_ext_corrected_flux', 'F148W flux')\n",
    "viz_outer_tbl.rename_column('N219M_ext_corrected_flux', 'N219M flux')\n",
    "viz_outer_tbl.rename_column('N245M_ext_corrected_flux', 'N245M flux')\n",
    "viz_outer_tbl.rename_column('N279N_ext_corrected_flux', 'N279N flux')\n",
    "\n",
    "viz_outer_tbl.rename_column('F148W_ext_corrected_fluxerr', 'F148W flux error')\n",
    "viz_outer_tbl.rename_column('N219M_ext_corrected_fluxerr', 'N219M flux error')\n",
    "viz_outer_tbl.rename_column('N245M_ext_corrected_fluxerr', 'N245M flux error')\n",
    "viz_outer_tbl.rename_column('N279N_ext_corrected_fluxerr', 'N279N flux error')\n",
    "\n",
    "viz_outer_tbl.rename_column('N219M_F148W_color', 'N219M - F148W')\n",
    "viz_outer_tbl.rename_column('N245M_F148W_color', 'N245M - F148W')\n",
    "viz_outer_tbl.rename_column('N245M_N219M_color', 'N245M - N219M')\n",
    "\n",
    "viz_outer_tbl.rename_column('Age_Myr', 'Age')\n",
    "\n",
    "\n",
    "viz_outer_tbl['RA_J2000'] = viz_outer_tbl['RA_J2000'] * u.degree\n",
    "viz_outer_tbl['DEC_J2000'] = viz_outer_tbl['DEC_J2000'] * u.degree\n",
    "viz_outer_tbl['Area'] = viz_outer_tbl['Area'] * 1000 * (u.pc ** 2)\n",
    "\n",
    "viz_outer_tbl['F148W flux'] = viz_outer_tbl['F148W flux'] * flux_unit\n",
    "viz_outer_tbl['N219M flux'] = viz_outer_tbl['N219M flux'] * flux_unit\n",
    "viz_outer_tbl['N245M flux'] = viz_outer_tbl['N245M flux'] * flux_unit\n",
    "viz_outer_tbl['N279N flux'] = viz_outer_tbl['N279N flux'] * flux_unit\n",
    "\n",
    "viz_outer_tbl['F148W flux error'] = viz_outer_tbl['F148W flux error'] * flux_unit\n",
    "viz_outer_tbl['N219M flux error'] = viz_outer_tbl['N219M flux error'] * flux_unit\n",
    "viz_outer_tbl['N245M flux error'] = viz_outer_tbl['N245M flux error'] * flux_unit\n",
    "viz_outer_tbl['N279N flux error'] = viz_outer_tbl['N279N flux error'] * flux_unit\n",
    "viz_outer_tbl['Age'] = viz_outer_tbl['Age'] * u.Myr\n",
    "\n",
    "viz_outer_tbl['RA_J2000'].info.format = '.7f'\n",
    "viz_outer_tbl['DEC_J2000'].info.format = '.7f'\n",
    "viz_outer_tbl['Area'].info.format = '.4f'\n",
    "\n",
    "viz_outer_tbl['F148W flux'].info.format = '.4e'\n",
    "viz_outer_tbl['N219M flux'].info.format = '.4e'\n",
    "viz_outer_tbl['N245M flux'].info.format = '.4e'\n",
    "viz_outer_tbl['N279N flux'].info.format = '.4e'\n",
    "\n",
    "viz_outer_tbl['F148W flux error'].info.format = '.4e'\n",
    "viz_outer_tbl['N219M flux error'].info.format = '.4e'\n",
    "viz_outer_tbl['N245M flux error'].info.format = '.4e'\n",
    "viz_outer_tbl['N279N flux error'].info.format = '.4e'\n",
    "\n",
    "viz_outer_tbl['N219M - F148W'].info.format = '.4e'\n",
    "viz_outer_tbl['N245M - F148W'].info.format = '.4e'\n",
    "viz_outer_tbl['N245M - N219M'].info.format = '.4e'\n",
    "viz_outer_tbl['Age'].info.format = '.4e'\n",
    "\n",
    "viz_outer_tbl.write('cena_otr.fit', overwrite = True)"
   ]
  },
  {
   "cell_type": "markdown",
   "id": "3f2bc001-4b87-46f3-be49-f18decf5f4eb",
   "metadata": {},
   "source": [
    "### Table B2"
   ]
  },
  {
   "cell_type": "code",
   "execution_count": 9,
   "id": "2ecc9382-1e80-4cfa-af83-bc1ac00ad8d7",
   "metadata": {},
   "outputs": [
    {
     "data": {
      "text/html": [
       "<div><i>QTable length=61</i>\n",
       "<table id=\"table140281017129952\" class=\"table-striped table-bordered table-condensed\">\n",
       "<thead><tr><th>label</th><th>RA_J2000</th><th>DEC_J2000</th><th>Area</th><th>F148W flux</th><th>F148W flux error</th><th>N219M flux</th><th>N219M flux error</th><th>N245M flux</th><th>N245M flux error</th><th>N279N flux</th><th>N279N flux error</th><th>N219M - F148W</th><th>N245M - F148W</th><th>N245M - N219M</th><th>Age</th></tr></thead>\n",
       "<thead><tr><th></th><th>deg</th><th>deg</th><th>pc2</th><th>erg / (Angstrom cm2 s)</th><th>erg / (Angstrom cm2 s)</th><th>erg / (Angstrom cm2 s)</th><th>erg / (Angstrom cm2 s)</th><th>erg / (Angstrom cm2 s)</th><th>erg / (Angstrom cm2 s)</th><th>erg / (Angstrom cm2 s)</th><th>erg / (Angstrom cm2 s)</th><th></th><th></th><th></th><th>Myr</th></tr></thead>\n",
       "<thead><tr><th>int64</th><th>float64</th><th>float64</th><th>float64</th><th>float64</th><th>float64</th><th>float64</th><th>float64</th><th>float64</th><th>float64</th><th>float64</th><th>float64</th><th>float64</th><th>float64</th><th>float64</th><th>float64</th></tr></thead>\n",
       "<tr><td>125</td><td>201.5788797</td><td>-42.8704060</td><td>4.4234</td><td>6.7604e-17</td><td>5.1101e-18</td><td>3.9900e-17</td><td>7.2865e-18</td><td>3.1258e-17</td><td>4.1888e-18</td><td>2.0263e-17</td><td>4.9212e-18</td><td>-1.5497e-01</td><td>-9.0850e-02</td><td>6.4116e-02</td><td>5.5497e+01</td></tr>\n",
       "<tr><td>138</td><td>201.5890307</td><td>-42.8646492</td><td>6.5466</td><td>7.5505e-17</td><td>5.7233e-18</td><td>4.8232e-17</td><td>8.3768e-18</td><td>3.5402e-17</td><td>4.3620e-18</td><td>1.6703e-17</td><td>4.8270e-18</td><td>-2.4088e-01</td><td>-1.0601e-01</td><td>1.3487e-01</td><td>7.3236e+01</td></tr>\n",
       "<tr><td>144</td><td>201.5992032</td><td>-42.8622796</td><td>3.3618</td><td>4.3804e-17</td><td>4.2453e-18</td><td>4.0864e-17</td><td>7.0712e-18</td><td>2.2963e-17</td><td>3.4864e-18</td><td>2.3417e-17</td><td>4.9276e-18</td><td>-6.5203e-01</td><td>-2.2714e-01</td><td>4.2488e-01</td><td>1.9384e+02</td></tr>\n",
       "<tr><td>148</td><td>201.5830998</td><td>-42.8599738</td><td>3.9516</td><td>6.4346e-17</td><td>4.9242e-18</td><td>6.0739e-17</td><td>8.8653e-18</td><td>4.0959e-17</td><td>4.8562e-18</td><td>2.2679e-17</td><td>5.1325e-18</td><td>-6.6482e-01</td><td>-4.3794e-01</td><td>2.2688e-01</td><td>2.5480e+02</td></tr>\n",
       "<tr><td>161</td><td>201.6029570</td><td>-42.8491883</td><td>4.6593</td><td>7.8737e-17</td><td>5.4115e-18</td><td>4.3640e-17</td><td>7.5555e-18</td><td>4.1313e-17</td><td>5.1167e-18</td><td>3.2014e-17</td><td>5.8917e-18</td><td>-8.6719e-02</td><td>-2.2814e-01</td><td>-1.4143e-01</td><td>7.9897e+01</td></tr>\n",
       "<tr><td>173</td><td>201.5803143</td><td>-42.8410852</td><td>5.6619</td><td>7.6678e-17</td><td>5.5655e-18</td><td>4.6342e-17</td><td>8.0529e-18</td><td>3.1114e-17</td><td>4.6376e-18</td><td>1.5859e-17</td><td>5.7015e-18</td><td>-1.8072e-01</td><td>5.0917e-02</td><td>2.3164e-01</td><td>5.5755e+01</td></tr>\n",
       "<tr><td>...</td><td>...</td><td>...</td><td>...</td><td>...</td><td>...</td><td>...</td><td>...</td><td>...</td><td>...</td><td>...</td><td>...</td><td>...</td><td>...</td><td>...</td><td>...</td></tr>\n",
       "<tr><td>424</td><td>201.5677448</td><td>-42.7977096</td><td>8.2570</td><td>1.1721e-16</td><td>6.8208e-18</td><td>7.4619e-17</td><td>9.7099e-18</td><td>5.7358e-17</td><td>5.6326e-18</td><td>3.5669e-17</td><td>6.3305e-18</td><td>-2.3714e-01</td><td>-1.5241e-01</td><td>8.4731e-02</td><td>8.0821e+01</td></tr>\n",
       "<tr><td>430</td><td>201.5136391</td><td>-42.7884113</td><td>21.8810</td><td>2.6128e-16</td><td>1.0497e-17</td><td>1.8580e-16</td><td>1.5491e-17</td><td>1.9783e-16</td><td>1.0072e-17</td><td>1.4483e-16</td><td>1.2006e-17</td><td>-3.5732e-01</td><td>-6.2635e-01</td><td>-2.6904e-01</td><td>2.0955e+02</td></tr>\n",
       "<tr><td>436</td><td>201.5623241</td><td>-42.7884567</td><td>7.4903</td><td>1.0291e-16</td><td>6.4315e-18</td><td>6.0106e-17</td><td>8.5897e-18</td><td>3.2898e-17</td><td>4.2677e-18</td><td>3.8995e-17</td><td>6.7920e-18</td><td>-1.4365e-01</td><td>3.0980e-01</td><td>4.5345e-01</td><td>3.4139e+01</td></tr>\n",
       "<tr><td>439</td><td>201.5660323</td><td>-42.7893381</td><td>7.4903</td><td>8.9982e-17</td><td>6.1875e-18</td><td>6.2559e-17</td><td>8.7208e-18</td><td>4.1412e-17</td><td>4.6202e-18</td><td>2.6141e-17</td><td>6.1929e-18</td><td>-3.3280e-01</td><td>-8.5791e-02</td><td>2.4701e-01</td><td>9.0060e+01</td></tr>\n",
       "<tr><td>441</td><td>201.5691295</td><td>-42.7871819</td><td>15.8062</td><td>3.0056e-16</td><td>1.0359e-17</td><td>1.8595e-16</td><td>1.4991e-17</td><td>1.4593e-16</td><td>8.9480e-18</td><td>9.1807e-17</td><td>9.8831e-18</td><td>-2.0611e-01</td><td>-1.4388e-01</td><td>6.2228e-02</td><td>7.3139e+01</td></tr>\n",
       "<tr><td>446</td><td>201.5688244</td><td>-42.7826230</td><td>16.9268</td><td>2.2439e-16</td><td>9.5695e-18</td><td>1.5362e-16</td><td>1.3630e-17</td><td>1.1239e-16</td><td>7.8338e-18</td><td>1.0099e-16</td><td>1.0319e-17</td><td>-3.1610e-01</td><td>-1.7767e-01</td><td>1.3843e-01</td><td>1.0225e+02</td></tr>\n",
       "</table></div>"
      ],
      "text/plain": [
       "<QTable length=61>\n",
       "label   RA_J2000   DEC_J2000  ... N245M - F148W N245M - N219M    Age    \n",
       "          deg         deg     ...                                Myr    \n",
       "int64   float64     float64   ...    float64       float64     float64  \n",
       "----- ----------- ----------- ... ------------- ------------- ----------\n",
       "  125 201.5788797 -42.8704060 ...   -9.0850e-02    6.4116e-02 5.5497e+01\n",
       "  138 201.5890307 -42.8646492 ...   -1.0601e-01    1.3487e-01 7.3236e+01\n",
       "  144 201.5992032 -42.8622796 ...   -2.2714e-01    4.2488e-01 1.9384e+02\n",
       "  148 201.5830998 -42.8599738 ...   -4.3794e-01    2.2688e-01 2.5480e+02\n",
       "  161 201.6029570 -42.8491883 ...   -2.2814e-01   -1.4143e-01 7.9897e+01\n",
       "  173 201.5803143 -42.8410852 ...    5.0917e-02    2.3164e-01 5.5755e+01\n",
       "  ...         ...         ... ...           ...           ...        ...\n",
       "  424 201.5677448 -42.7977096 ...   -1.5241e-01    8.4731e-02 8.0821e+01\n",
       "  430 201.5136391 -42.7884113 ...   -6.2635e-01   -2.6904e-01 2.0955e+02\n",
       "  436 201.5623241 -42.7884567 ...    3.0980e-01    4.5345e-01 3.4139e+01\n",
       "  439 201.5660323 -42.7893381 ...   -8.5791e-02    2.4701e-01 9.0060e+01\n",
       "  441 201.5691295 -42.7871819 ...   -1.4388e-01    6.2228e-02 7.3139e+01\n",
       "  446 201.5688244 -42.7826230 ...   -1.7767e-01    1.3843e-01 1.0225e+02"
      ]
     },
     "execution_count": 9,
     "metadata": {},
     "output_type": "execute_result"
    }
   ],
   "source": [
    "viz_outer_tbl"
   ]
  }
 ],
 "metadata": {
  "kernelspec": {
   "display_name": "Python 3 (ipykernel)",
   "language": "python",
   "name": "python3"
  },
  "language_info": {
   "codemirror_mode": {
    "name": "ipython",
    "version": 3
   },
   "file_extension": ".py",
   "mimetype": "text/x-python",
   "name": "python",
   "nbconvert_exporter": "python",
   "pygments_lexer": "ipython3",
   "version": "3.9.13"
  }
 },
 "nbformat": 4,
 "nbformat_minor": 5
}
